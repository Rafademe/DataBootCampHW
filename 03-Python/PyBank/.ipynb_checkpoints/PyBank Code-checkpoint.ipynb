{
 "cells": [
  {
   "cell_type": "code",
   "execution_count": 21,
   "metadata": {},
   "outputs": [],
   "source": [
    "# Importing the csv library\n",
    "import csv\n"
   ]
  },
  {
   "cell_type": "code",
   "execution_count": 22,
   "metadata": {},
   "outputs": [],
   "source": [
    "# Setting input and output paths\n",
    "budget_data_path = \"budget_data.csv\"\n",
    "analysis_output_path = \"financial_analysis.txt\"\n"
   ]
  },
  {
   "cell_type": "code",
   "execution_count": 23,
   "metadata": {},
   "outputs": [],
   "source": [
    "# Setting up empty variables and lists\n",
    "total_months = 0\n",
    "month_of_change = []\n",
    "total_change_list = []\n",
    "greatest_increase = [\"\", 0]\n",
    "greatest_decrease = [\"\", 9999999999999999999999999999999999999999999999]\n",
    "total_amount = 0\n"
   ]
  },
  {
   "cell_type": "code",
   "execution_count": 24,
   "metadata": {},
   "outputs": [],
   "source": [
    "# Reading in the csv and converting it into dictionaries\n",
    "with open(budget_data_path) as budget_data:\n",
    "    reader = csv.reader(budget_data)\n",
    "\n",
    "    # Setting header\n",
    "    header_row = next(reader)\n",
    "\n",
    "    # Pulling the first row\n",
    "    first_row = next(reader)\n",
    "    total_months = total_months + 1\n",
    "    total_amount = total_amount + int(first_row[1])\n",
    "    prev_total = int(first_row[1])\n",
    "\n",
    "    for row in reader:\n",
    "\n",
    "        # Calculating the totals\n",
    "        total_months = total_months + 1\n",
    "        total_amount = total_amount + int(row[1])\n",
    "\n",
    "        # Calculating the changes\n",
    "        total_change = int(row[1]) - prev_total\n",
    "        prev_total = int(row[1])\n",
    "        total_change_list = total_change_list + [total_change]\n",
    "        month_of_change = month_of_change + [row[0]]\n",
    "\n",
    "        # Seeing if greatest increase\n",
    "        if total_change > greatest_increase[1]:\n",
    "            greatest_increase[0] = row[0]\n",
    "            greatest_increase[1] = total_change\n",
    "\n",
    "        # Seeing if greatest decrease\n",
    "        if total_change < greatest_decrease[1]:\n",
    "            greatest_decrease[0] = row[0]\n",
    "            greatest_decrease[1] = total_change\n",
    "\n",
    "# Calculating the average change\n",
    "average_change = sum(total_change_list) / len(total_change_list)"
   ]
  },
  {
   "cell_type": "code",
   "execution_count": 25,
   "metadata": {},
   "outputs": [
    {
     "name": "stdout",
     "output_type": "stream",
     "text": [
      "\n",
      "Financial Analysis\n",
      "----------------------------\n",
      "Total Months: 86\n",
      "Total: $38382578\n",
      "Average  Change: $-2315.12\n",
      "Greatest Increase in Profits: Feb-2012 ($1926159)\n",
      "Greatest Decrease in Profits: Sep-2013 ($-2196167)\n",
      "\n"
     ]
    }
   ],
   "source": [
    "# Creating summary of analysis\n",
    "analysis_output = (\n",
    "    f\"\\nFinancial Analysis\\n\"\n",
    "    f\"----------------------------\\n\"\n",
    "    f\"Total Months: {total_months}\\n\"\n",
    "    f\"Total: ${total_amount}\\n\"\n",
    "    f\"Average  Change: ${average_change:.2f}\\n\"\n",
    "    f\"Greatest Increase in Profits: {greatest_increase[0]} (${greatest_increase[1]})\\n\"\n",
    "    f\"Greatest Decrease in Profits: {greatest_decrease[0]} (${greatest_decrease[1]})\\n\")\n",
    "\n",
    "# Printing output\n",
    "print(analysis_output)\n"
   ]
  },
  {
   "cell_type": "code",
   "execution_count": 11,
   "metadata": {},
   "outputs": [],
   "source": [
    "# Exporting the analysis to a text file\n",
    "with open(analysis_output_path, \"w\") as txt_file:\n",
    "    txt_file.write(analysis_output)\n"
   ]
  }
 ],
 "metadata": {
  "kernelspec": {
   "display_name": "Python 3",
   "language": "python",
   "name": "python3"
  },
  "language_info": {
   "codemirror_mode": {
    "name": "ipython",
    "version": 3
   },
   "file_extension": ".py",
   "mimetype": "text/x-python",
   "name": "python",
   "nbconvert_exporter": "python",
   "pygments_lexer": "ipython3",
   "version": "3.6.5"
  }
 },
 "nbformat": 4,
 "nbformat_minor": 2
}
