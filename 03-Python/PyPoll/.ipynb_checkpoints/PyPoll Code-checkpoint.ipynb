{
 "cells": [
  {
   "cell_type": "code",
   "execution_count": 1,
   "metadata": {},
   "outputs": [],
   "source": [
    "# Importing the csv library\n",
    "import csv\n",
    "\n",
    "# Setting up the files to load and output\n",
    "election_data_path = \"election_data.csv\"\n",
    "file_to_output = \"election_analysis.txt\""
   ]
  },
  {
   "cell_type": "code",
   "execution_count": 2,
   "metadata": {},
   "outputs": [],
   "source": [
    "# Setting up the empty/zeroed vars, lists, and dicts\n",
    "\n",
    "total_votes = 0\n",
    "\n",
    "candidate_list = []\n",
    "candidate_votes = {}\n",
    "\n",
    "winner = \"\"\n",
    "winning_vote_count = 0"
   ]
  },
  {
   "cell_type": "code",
   "execution_count": 3,
   "metadata": {},
   "outputs": [],
   "source": [
    "# Reading in the csv and creating a list of dictionaries from it\n",
    "with open(election_data_path) as election_data:\n",
    "    reader = csv.reader(election_data)\n",
    "\n",
    "    # Setting the header\n",
    "    header = next(reader)\n",
    "\n",
    "    for row in reader:\n",
    "\n",
    "        # Counting the votes\n",
    "        total_votes = total_votes + 1\n",
    "\n",
    "        # Pulling candidate from each vote\n",
    "        candidate_name = row[2]\n",
    "\n",
    "        # Checking if candidate is in the exsiting list\n",
    "        if candidate_name not in candidate_list:\n",
    "\n",
    "            # Adding their name to the name list and vote count dict, if they aren't\n",
    "\n",
    "            candidate_list.append(candidate_name)\n",
    "            candidate_votes[candidate_name] = 0\n",
    "\n",
    "        # Updating the vote count\n",
    "        candidate_votes[candidate_name] = candidate_votes[candidate_name] + 1"
   ]
  },
  {
   "cell_type": "code",
   "execution_count": 26,
   "metadata": {},
   "outputs": [
    {
     "data": {
      "text/plain": [
       "{'Khan': 2218231, 'Correy': 704200, 'Li': 492940, \"O'Tooley\": 105630}"
      ]
     },
     "execution_count": 26,
     "metadata": {},
     "output_type": "execute_result"
    }
   ],
   "source": [
    "candidate_votes[\"Khan\"]\n",
    "\n",
    "candidate_votes"
   ]
  },
  {
   "cell_type": "code",
   "execution_count": 32,
   "metadata": {},
   "outputs": [
    {
     "data": {
      "text/plain": [
       "63.0"
      ]
     },
     "execution_count": 32,
     "metadata": {},
     "output_type": "execute_result"
    }
   ],
   "source": [
    "round(((candidate_votes[\"Khan\"]/total_votes)*100),3)"
   ]
  },
  {
   "cell_type": "code",
   "execution_count": 38,
   "metadata": {},
   "outputs": [
    {
     "name": "stdout",
     "output_type": "stream",
     "text": [
      "Khan\n",
      "Correy\n",
      "Li\n",
      "O'Tooley\n"
     ]
    }
   ],
   "source": [
    " for candidate in candidate_votes:\n",
    "        print(candidate)"
   ]
  },
  {
   "cell_type": "code",
   "execution_count": 34,
   "metadata": {},
   "outputs": [
    {
     "name": "stdout",
     "output_type": "stream",
     "text": [
      "2218231\n",
      "704200\n",
      "492940\n",
      "105630\n"
     ]
    }
   ],
   "source": [
    " for candidate in candidate_votes:\n",
    "        votes = candidate_votes.get(candidate)\n",
    "        print(votes)\n"
   ]
  }
 ],
 "metadata": {
  "kernelspec": {
   "display_name": "Python 3",
   "language": "python",
   "name": "python3"
  },
  "language_info": {
   "codemirror_mode": {
    "name": "ipython",
    "version": 3
   },
   "file_extension": ".py",
   "mimetype": "text/x-python",
   "name": "python",
   "nbconvert_exporter": "python",
   "pygments_lexer": "ipython3",
   "version": "3.6.5"
  }
 },
 "nbformat": 4,
 "nbformat_minor": 2
}
